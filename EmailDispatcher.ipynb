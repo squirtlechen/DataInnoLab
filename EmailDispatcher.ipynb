{
 "cells": [
  {
   "cell_type": "code",
   "execution_count": null,
   "id": "99eecb37-5d06-42f0-9a22-a2c27027b27c",
   "metadata": {},
   "outputs": [],
   "source": [
    "from utils.auth import OAuthService\n",
    "from utils.email_sender import BulkMailService"
   ]
  },
  {
   "cell_type": "code",
   "execution_count": null,
   "id": "e71434c7-9c0a-4950-86f0-9f3e9789aa2e",
   "metadata": {},
   "outputs": [],
   "source": [
    "oauth_service = OAuthService()\n",
    "oauth_service.authenticate()\n",
    "sheets_service = oauth_service.get_service('sheets', 'v4')\n",
    "gmail_service = oauth_service.get_service('gmail', 'v1')\n",
    "sender = oauth_service.user_email"
   ]
  },
  {
   "cell_type": "code",
   "execution_count": null,
   "id": "5c7f38c8-cdb0-4d03-a76e-2f95e4ba5955",
   "metadata": {},
   "outputs": [],
   "source": [
    "sheet = sheets_service.spreadsheets()\n",
    "spread_sheet_id = '1Ce0jHirxdppL-ryjI2uhyUBm1vkxJGCmjrf_8aK4F4U'  # TODO: Update placeholder value.\n",
    "range = '0711!A1:B10'  # TODO: Update placeholder value.\n",
    "\n",
    "result = sheet.values().get(spreadsheetId=spread_sheet_id, range=range).execute()"
   ]
  },
  {
   "cell_type": "code",
   "execution_count": null,
   "id": "74f227a3-6642-424a-bad3-27e1861d5fa5",
   "metadata": {},
   "outputs": [],
   "source": [
    "# Sample\n",
    "# result = {}\n",
    "# result['values'] = [['Wade', 'Wade@abc.com', 'John', 'John@abc.com']]"
   ]
  },
  {
   "cell_type": "code",
   "execution_count": null,
   "id": "ecdb75c4-3cd7-4379-a920-82c53addd3c3",
   "metadata": {},
   "outputs": [],
   "source": [
    "from templates.email_body import mentorship_email"
   ]
  },
  {
   "cell_type": "code",
   "execution_count": null,
   "id": "f1efc24c-3910-4551-877c-0f2d4d8cac2f",
   "metadata": {},
   "outputs": [],
   "source": [
    "email = BulkMailService(sender = sender, mail_service = gmail_service)\n",
    "email.check_berfore_send = True\n",
    "for mentor, mentor_email, mentee, mentee_email in result['values']:\n",
    "    email.receiver = [mentor_email,mentee_email]\n",
    "    email.subject = f'Hello {mentee} and {mentor}'\n",
    "    email.body = mentorship_email.format(mentee=mentee, mentor=mentor)\n",
    "    email.send()\n"
   ]
  },
  {
   "cell_type": "code",
   "execution_count": null,
   "id": "fc9973c9-0a45-4222-9b0b-9349a88d8733",
   "metadata": {},
   "outputs": [],
   "source": []
  }
 ],
 "metadata": {
  "kernelspec": {
   "display_name": "Python 3 (ipykernel)",
   "language": "python",
   "name": "python3"
  },
  "language_info": {
   "codemirror_mode": {
    "name": "ipython",
    "version": 3
   },
   "file_extension": ".py",
   "mimetype": "text/x-python",
   "name": "python",
   "nbconvert_exporter": "python",
   "pygments_lexer": "ipython3",
   "version": "3.8.18"
  }
 },
 "nbformat": 4,
 "nbformat_minor": 5
}
